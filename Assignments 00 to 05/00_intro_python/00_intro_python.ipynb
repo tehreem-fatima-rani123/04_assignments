{
  "cells": [
    {
      "cell_type": "markdown",
      "metadata": {
        "id": "view-in-github",
        "colab_type": "text"
      },
      "source": [
        "<a href=\"https://colab.research.google.com/github/tehreem-fatima-rani123/04_assignments/blob/main/00_intro_python.ipynb\" target=\"_parent\"><img src=\"https://colab.research.google.com/assets/colab-badge.svg\" alt=\"Open In Colab\"/></a>"
      ]
    },
    {
      "cell_type": "markdown",
      "metadata": {
        "id": "UKlNgs5fQLJU"
      },
      "source": [
        "#**01_add_two_numbers.md**"
      ]
    },
    {
      "cell_type": "code",
      "execution_count": null,
      "metadata": {
        "colab": {
          "base_uri": "https://localhost:8080/"
        },
        "id": "bRxyKFgOQF5p",
        "outputId": "5a8da98c-f366-4ecd-c9f3-27407b93a964"
      },
      "outputs": [
        {
          "name": "stdout",
          "output_type": "stream",
          "text": [
            "01_add_two_numbers.md\n",
            "Enter your First Numbr : 3\n",
            "Enter your Second Numbr : 7\n",
            "The total sum of 3 and 7 is 10\n"
          ]
        }
      ],
      "source": [
        "print(\"01_add_two_numbers.md\")\n",
        "\n",
        "def add():\n",
        "  print(\"This application for add tow number\")\n",
        "  num1=int(input(\"Enter your First Numbr : \"))\n",
        "  num2=int(input(\"Enter your Second Numbr : \"))\n",
        "  total = int(num1 + num2)\n",
        "  print(f\"The total sum of {num1} and {num2} is {total}\")\n",
        "\n",
        "if __name__ == \"__main__\":\n",
        "  add()\n"
      ]
    },
    {
      "cell_type": "markdown",
      "source": [
        "#**02_agreement_bot.md**"
      ],
      "metadata": {
        "id": "3mv_mYzbfmr2"
      }
    },
    {
      "cell_type": "code",
      "execution_count": null,
      "metadata": {
        "colab": {
          "base_uri": "https://localhost:8080/"
        },
        "id": "bniTEbKJSvJh",
        "outputId": "1d8e9bd0-47d3-45b2-ab04-79d63726ebf3"
      },
      "outputs": [
        {
          "name": "stdout",
          "output_type": "stream",
          "text": [
            "02_agreement_bot.md\n",
            "What's your favorite animal?dog\n",
            "My favorite animal is also dog.\n"
          ]
        }
      ],
      "source": [
        "print(\"02_agreement_bot.md\")\n",
        "\n",
        "def bot():\n",
        "    animal = input(\"What's your favorite animal? \")\n",
        "    print(f\"My favorite animal is also {animal}.\")\n",
        "\n",
        "if __name__ == \"__main__\":\n",
        "    bot()\n"
      ]
    },
    {
      "cell_type": "markdown",
      "source": [
        "#**03_fahrenheit_to_celsius**"
      ],
      "metadata": {
        "id": "thqtRykJf42F"
      }
    },
    {
      "cell_type": "code",
      "execution_count": null,
      "metadata": {
        "colab": {
          "base_uri": "https://localhost:8080/"
        },
        "id": "wjfh75wxIDmN",
        "outputId": "9b1d5adc-4d2a-4a15-b720-7f6995207180"
      },
      "outputs": [
        {
          "name": "stdout",
          "output_type": "stream",
          "text": [
            "03_fahrenheit_to_celsius\n",
            "This code is for converting Fahrenheit to Celsius.\n",
            "Enter your Fahrenheit degree: 54\n",
            "Temperature 54.0°F = 12.22°C\n"
          ]
        }
      ],
      "source": [
        "print(\"03_fahrenheit_to_celsius\")\n",
        "\n",
        "def temp():\n",
        "    print(\"This code is for converting Fahrenheit to Celsius.\")\n",
        "\n",
        "if __name__ == \"__main__\":\n",
        "    temp()\n",
        "    fahrenheit_degree = float(input(\"Enter your Fahrenheit degree: \"))\n",
        "    celsius_degree = (fahrenheit_degree - 32) * 5.0 / 9.0\n",
        "    print(f\"Temperature {fahrenheit_degree}°F = {celsius_degree:.2f}°C\")\n"
      ]
    },
    {
      "cell_type": "markdown",
      "source": [
        "#**04_how_old_are_they**"
      ],
      "metadata": {
        "id": "GcKFST4lgBeI"
      }
    },
    {
      "cell_type": "code",
      "execution_count": null,
      "metadata": {
        "colab": {
          "base_uri": "https://localhost:8080/"
        },
        "id": "cY1s3pbUN59Q",
        "outputId": "5258b4ae-7abe-48a7-aa13-9a321c98db26"
      },
      "outputs": [
        {
          "name": "stdout",
          "output_type": "stream",
          "text": [
            "04_how_old_are_they\n",
            "Anton is 21\n",
            "Beth is 27\n",
            "Chen is 47\n",
            "Drew is 68\n",
            "Ethan is 47\n"
          ]
        }
      ],
      "source": [
        "print(\"04_how_old_are_they\")\n",
        "\n",
        "def add_ages():\n",
        "    anton : int = 21\n",
        "    beth : int = 6 + anton\n",
        "    chen : int = 20 + beth\n",
        "    drew  : int= chen + anton\n",
        "    ethan : int = chen\n",
        "\n",
        "    print(\"Anton is \" + str(anton))\n",
        "    print(\"Beth is \" + str(beth))\n",
        "    print(\"Chen is \" + str(chen))\n",
        "    print(\"Drew is \" + str(drew))\n",
        "    print(\"Ethan is \" + str(ethan))\n",
        "\n",
        "\n",
        "if __name__ == \"__main__\":\n",
        "    add_ages()\n"
      ]
    },
    {
      "cell_type": "markdown",
      "source": [
        "#**05_triangle_perimeter**"
      ],
      "metadata": {
        "id": "SSpT2XZIgKLC"
      }
    },
    {
      "cell_type": "code",
      "execution_count": null,
      "metadata": {
        "colab": {
          "base_uri": "https://localhost:8080/"
        },
        "id": "mdKevMY8QWav",
        "outputId": "743f46c0-bfca-49aa-cd20-ceffbe7e9394"
      },
      "outputs": [
        {
          "output_type": "stream",
          "name": "stdout",
          "text": [
            "05_triangle_perimeter\n",
            "This code is about the sum of triangle sides\n",
            "Enter your first side of the triangle: 55\n",
            "Enter your second side of the triangle: 55\n",
            "Enter your third side of the triangle: 55\n",
            "The sum of 55.0, 55.0, and 55.0 is 165.0\n"
          ]
        }
      ],
      "source": [
        "print(\"05_triangle_perimeter\")\n",
        "\n",
        "def triangle():\n",
        "    print(\"This code is about the sum of triangle sides\")\n",
        "\n",
        "    side1 = float(input(\"Enter your first side of the triangle: \"))\n",
        "    side2 = float(input(\"Enter your second side of the triangle: \"))\n",
        "    side3 = float(input(\"Enter your third side of the triangle: \"))\n",
        "\n",
        "    total = side1 + side2 + side3\n",
        "\n",
        "    print(f\"The sum of {side1}, {side2}, and {side3} is {total}\")\n",
        "\n",
        "if __name__ == \"__main__\":\n",
        "  triangle()\n"
      ]
    },
    {
      "cell_type": "markdown",
      "source": [
        "#**06_square_number**"
      ],
      "metadata": {
        "id": "6R8pv8h9gP1d"
      }
    },
    {
      "cell_type": "code",
      "source": [
        "print(\"06_square_number\")\n",
        "\n",
        "def square():\n",
        "    print(\"This code is about the square of a given number\")\n",
        "    num1: int = int(input(\"Enter any number and I will give you its square value: \"))\n",
        "    print(f\"The square of {num1} is {num1 ** 2}\")\n",
        "\n",
        "if __name__ == \"__main__\":\n",
        "    square()\n"
      ],
      "metadata": {
        "colab": {
          "base_uri": "https://localhost:8080/"
        },
        "id": "_-D43B8QTDkW",
        "outputId": "72dbf85c-ebf3-43aa-cc32-ee23f13a3770"
      },
      "execution_count": null,
      "outputs": [
        {
          "output_type": "stream",
          "name": "stdout",
          "text": [
            "06_square_number\n",
            "This code is about the square of a given number\n",
            "Enter any number and I will give you its square value: 4\n",
            "The square of 4 is 16\n"
          ]
        }
      ]
    }
  ],
  "metadata": {
    "colab": {
      "provenance": [],
      "authorship_tag": "ABX9TyPeiwnSWwG+w7KKhPeCh+Fy",
      "include_colab_link": true
    },
    "kernelspec": {
      "display_name": "Python 3",
      "name": "python3"
    },
    "language_info": {
      "name": "python"
    }
  },
  "nbformat": 4,
  "nbformat_minor": 0
}