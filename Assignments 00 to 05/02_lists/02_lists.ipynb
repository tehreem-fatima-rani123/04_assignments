{
  "nbformat": 4,
  "nbformat_minor": 0,
  "metadata": {
    "colab": {
      "provenance": [],
      "authorship_tag": "ABX9TyOH4Q/4hxlUMLtOu/2jklkl",
      "include_colab_link": true
    },
    "kernelspec": {
      "name": "python3",
      "display_name": "Python 3"
    },
    "language_info": {
      "name": "python"
    }
  },
  "cells": [
    {
      "cell_type": "markdown",
      "metadata": {
        "id": "view-in-github",
        "colab_type": "text"
      },
      "source": [
        "<a href=\"https://colab.research.google.com/github/tehreem-fatima-rani123/04_assignments/blob/main/02_lists.ipynb\" target=\"_parent\"><img src=\"https://colab.research.google.com/assets/colab-badge.svg\" alt=\"Open In Colab\"/></a>"
      ]
    },
    {
      "cell_type": "code",
      "execution_count": 4,
      "metadata": {
        "colab": {
          "base_uri": "https://localhost:8080/"
        },
        "id": "BMCEFBag92OH",
        "outputId": "7aecce39-7796-43c2-fc94-686ce8c8289e"
      },
      "outputs": [
        {
          "output_type": "stream",
          "name": "stdout",
          "text": [
            "15\n"
          ]
        }
      ],
      "source": [
        "print(\"01_add_many_number.\")\n",
        "\n",
        "def add_many_numbers(numbers) -> int:\n",
        "    \"\"\"\n",
        "    Takes in a list of numbers and returns the sum of those numbers.\n",
        "    \"\"\"\n",
        "    return sum(numbers)\n",
        "\n",
        "\n",
        "def main():\n",
        "    numbers: list[int] = [1, 2, 3, 4, 5]\n",
        "    sum_of_numbers: int = add_many_numbers(numbers)\n",
        "    print(sum_of_numbers)\n",
        "\n",
        "\n",
        "if __name__ == '__main__':\n",
        "    main()\n"
      ]
    },
    {
      "cell_type": "code",
      "source": [
        "print(\"02_double_list\")\n",
        "\n",
        "def main():\n",
        "    numbers: list[int] = [1, 2, 3, 4,5]\n",
        "    numbers = [num * 2 for num in numbers]\n",
        "    print(numbers)\n",
        "\n",
        "\n",
        "if __name__ == '__main__':\n",
        "    main()\n"
      ],
      "metadata": {
        "colab": {
          "base_uri": "https://localhost:8080/"
        },
        "id": "dQ3vUfwnHNKZ",
        "outputId": "85714584-e007-4903-a5d2-aa6fbddd9f70"
      },
      "execution_count": 6,
      "outputs": [
        {
          "output_type": "stream",
          "name": "stdout",
          "text": [
            "[2, 4, 6, 8, 10]\n"
          ]
        }
      ]
    },
    {
      "cell_type": "code",
      "source": [
        "print(\"03_erase_canvas.\")\n",
        "\n",
        "\n",
        "import numpy as np\n",
        "import matplotlib.pyplot as plt\n",
        "from matplotlib.widgets import Button\n",
        "\n",
        "# Canvas Size\n",
        "canvas_size = (10, 10)\n",
        "grid = np.ones(canvas_size)  # 1 means blue, 0 means white (erased)\n",
        "\n",
        "fig, ax = plt.subplots()\n",
        "plt.subplots_adjust(bottom=0.2)\n",
        "ax.set_xticks([])\n",
        "ax.set_yticks([])\n",
        "canvas_display = ax.imshow(grid, cmap=\"Blues\", vmin=0, vmax=1)\n",
        "\n",
        "# Eraser function\n",
        "def erase(event):\n",
        "    if event.xdata is not None and event.ydata is not None:\n",
        "        x, y = int(event.xdata), int(event.ydata)\n",
        "        grid[y, x] = 0  # Set the clicked pixel to white (erased)\n",
        "        canvas_display.set_data(grid)\n",
        "        plt.draw()\n",
        "\n",
        "fig.canvas.mpl_connect(\"motion_notify_event\", erase)  # Erase on mouse drag\n",
        "\n",
        "# Reset button\n",
        "def reset(event):\n",
        "    global grid\n",
        "    grid = np.ones(canvas_size)\n",
        "    canvas_display.set_data(grid)\n",
        "    plt.draw()\n",
        "\n",
        "ax_reset = plt.axes([0.4, 0.05, 0.2, 0.075])  # Button position\n",
        "button = Button(ax_reset, \"Reset\")\n",
        "button.on_clicked(reset)\n",
        "\n",
        "plt.show()"
      ],
      "metadata": {
        "colab": {
          "base_uri": "https://localhost:8080/",
          "height": 435
        },
        "id": "Ub0yYjDlMElX",
        "outputId": "90048bb0-0688-4245-cf24-26f7e85524ea"
      },
      "execution_count": 4,
      "outputs": [
        {
          "output_type": "display_data",
          "data": {
            "text/plain": [
              "<Figure size 640x480 with 2 Axes>"
            ],
            "image/png": "[encoded data removed]"
          },
          "metadata": {}
        }
      ]
    },
    {
      "cell_type": "code",
      "source": [
        "print(\"04_flowing_with_data_structures\")\n",
        "\n",
        "def add_copies(my_list,data):\n",
        "  for i in range(3):\n",
        "    my_list.append(data)\n",
        "\n",
        "def main():\n",
        "  message = input(\"Enter a message to copy: \")\n",
        "  my_list = []\n",
        "  print(\"List before:\",my_list)\n",
        "  add_copies(my_list,message)\n",
        "  print(\"List after:\",my_list)\n",
        "\n",
        "if __name__ == \"__main__\":\n",
        "  main()"
      ],
      "metadata": {
        "colab": {
          "base_uri": "https://localhost:8080/"
        },
        "id": "Mjned3HHHecr",
        "outputId": "aafa52fd-5cab-4666-dffb-1f3ecbb8ec5d"
      },
      "execution_count": 13,
      "outputs": [
        {
          "output_type": "stream",
          "name": "stdout",
          "text": [
            "04_flowing_with_data_structures\n",
            "Enter a message to copy: hello \n",
            "List before: []\n",
            "List after: ['hello ', 'hello ', 'hello ']\n"
          ]
        }
      ]
    },
    {
      "cell_type": "code",
      "source": [
        "print(\"05_get_first_element\")\n",
        "\n",
        "def get__first_element(lst):\n",
        "  print(lst[0])\n",
        "\n",
        "def get_lst():\n",
        "  lst = []\n",
        "  element:str = input(\"Enter an element to add to the list: \")\n",
        "  while element != \"\":\n",
        "    lst.append(element)\n",
        "    return lst\n",
        "\n",
        "def main():\n",
        "  lst = get_lst()\n",
        "  get__first_element(lst)\n",
        "\n",
        "if __name__ == \"__main__\":\n",
        "  main()"
      ],
      "metadata": {
        "colab": {
          "base_uri": "https://localhost:8080/"
        },
        "id": "qpvhUF9AI4d-",
        "outputId": "984998d2-4aef-4bcb-9f59-01b7fefbdc05"
      },
      "execution_count": 14,
      "outputs": [
        {
          "output_type": "stream",
          "name": "stdout",
          "text": [
            "05_get_first_element\n",
            "Enter an element to add to the list: hey\n",
            "hey\n"
          ]
        }
      ]
    },
    {
      "cell_type": "code",
      "source": [
        "print(\"06_get_last_element\")\n",
        "\n",
        "def get_last_element(lst):\n",
        "  print(lst[-1])\n",
        "\n",
        "def main():\n",
        "  lst = [1,2,3,4,5,6]\n",
        "  get_last_element(lst)\n",
        "\n",
        "if __name__ == \"__main__\":\n",
        "  main()"
      ],
      "metadata": {
        "colab": {
          "base_uri": "https://localhost:8080/"
        },
        "id": "U-c-LUjLJG7C",
        "outputId": "598a0bd1-64d6-4513-9e75-2b3098858c1a"
      },
      "execution_count": 16,
      "outputs": [
        {
          "output_type": "stream",
          "name": "stdout",
          "text": [
            "06_get_last_element\n",
            "6\n"
          ]
        }
      ]
    },
    {
      "cell_type": "code",
      "source": [
        "print(\"07_get_list\")\n",
        "\n",
        "def main():\n",
        "    lst = []\n",
        "    while True:\n",
        "        val = input(\"Enter a value to add to the list (Press Enter to stop): \").strip()\n",
        "        if val == \"\":  # Agar user ne enter daba diya bina likhe\n",
        "            break  # Loop se bahar aa jao\n",
        "        lst.append(val)  # Value list me add karo\n",
        "\n",
        "    print(\"Here is the list:\", lst)\n",
        "\n",
        "if __name__ == \"__main__\":\n",
        "    main()\n"
      ],
      "metadata": {
        "colab": {
          "base_uri": "https://localhost:8080/"
        },
        "id": "zWYo86qLJOY3",
        "outputId": "786291fa-4391-4d65-d118-ad2c5fb534c0"
      },
      "execution_count": 19,
      "outputs": [
        {
          "output_type": "stream",
          "name": "stdout",
          "text": [
            "07_get_list\n",
            "Enter a value to add to the list (Press Enter to stop): 4\n",
            "Enter a value to add to the list (Press Enter to stop): 5\n",
            "Enter a value to add to the list (Press Enter to stop): \n",
            "Here is the list: ['4', '5']\n"
          ]
        }
      ]
    },
    {
      "cell_type": "code",
      "source": [
        "print(\"08_shorten\")\n",
        "\n",
        "MAX_LENGTH:int = 3\n",
        "def shorten(lst):\n",
        "  while len(lst) > MAX_LENGTH:\n",
        "    last_element = lst.pop()\n",
        "    print(last_element)\n",
        "\n",
        "def get_lst():\n",
        "  lst = []\n",
        "  element = input(\"Enter an element to add to the list: \")\n",
        "  while element != \"\":\n",
        "    lst.append(element)\n",
        "    element = input(\"Enter an element to add to the list: \")\n",
        "  return lst\n",
        "\n",
        "def main():\n",
        "  lst = get_lst()\n",
        "  shorten(lst)\n",
        "\n",
        "if __name__ == \"__main__\":\n",
        "  main()"
      ],
      "metadata": {
        "colab": {
          "base_uri": "https://localhost:8080/"
        },
        "id": "aeT5AbpjKIcj",
        "outputId": "7188fb94-0b2b-43c7-9850-8f7dea417760"
      },
      "execution_count": 2,
      "outputs": [
        {
          "output_type": "stream",
          "name": "stdout",
          "text": [
            "08_shorten\n",
            "Enter an element to add to the list: helo\n",
            "Enter an element to add to the list: hi\n",
            "Enter an element to add to the list: how\n",
            "Enter an element to add to the list: are\n",
            "Enter an element to add to the list: you\n",
            "Enter an element to add to the list: \n",
            "you\n",
            "are\n"
          ]
        }
      ]
    }
  ]
}