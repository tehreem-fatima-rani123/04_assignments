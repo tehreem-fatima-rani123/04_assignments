{
  "nbformat": 4,
  "nbformat_minor": 0,
  "metadata": {
    "colab": {
      "provenance": [],
      "authorship_tag": "ABX9TyMp7i/jcT71JkK4Rmn+AUVa",
      "include_colab_link": true
    },
    "kernelspec": {
      "name": "python3",
      "display_name": "Python 3"
    },
    "language_info": {
      "name": "python"
    }
  },
  "cells": [
    {
      "cell_type": "markdown",
      "metadata": {
        "id": "view-in-github",
        "colab_type": "text"
      },
      "source": [
        "<a href=\"https://colab.research.google.com/github/tehreem-fatima-rani123/04_assignments/blob/main/Planetary_Weight_Calculator.ipynb\" target=\"_parent\"><img src=\"https://colab.research.google.com/assets/colab-badge.svg\" alt=\"Open In Colab\"/></a>"
      ]
    },
    {
      "cell_type": "code",
      "execution_count": null,
      "metadata": {
        "colab": {
          "base_uri": "https://localhost:8080/"
        },
        "id": "dw3jOjlb0UGB",
        "outputId": "7ac73c21-df6a-4143-96da-98005e7fb43d"
      },
      "outputs": [
        {
          "output_type": "stream",
          "name": "stdout",
          "text": [
            "\n",
            "🌍 Welcome to the Planetary Weight Calculator! 🚀\n",
            "Enter your weight on Earth (in kg): 40\n",
            "\n",
            "Select a planet:\n",
            "- Mercury\n",
            "- Venus\n",
            "- Mars\n",
            "- Jupiter\n",
            "- Saturn\n",
            "- Uranus\n",
            "- Neptune\n",
            "\n",
            "Enter the name of the planet: venus\n",
            "\n",
            "🌟 Your weight on Venus would be: 36.40 kg\n"
          ]
        }
      ],
      "source": [
        "def planetary_weight_calculator():\n",
        "    print(\"\\n🌍 Welcome to the Planetary Weight Calculator! 🚀\")\n",
        "\n",
        "    # Get user input\n",
        "    earth_weight = float(input(\"Enter your weight on Earth (in kg): \"))\n",
        "\n",
        "    # Dictionary storing gravity ratios\n",
        "    gravity_ratios = {\n",
        "        \"Mercury\": 0.38,\n",
        "        \"Venus\": 0.91,\n",
        "        \"Mars\": 0.38,\n",
        "        \"Jupiter\": 2.34,\n",
        "        \"Saturn\": 1.06,\n",
        "        \"Uranus\": 0.92,\n",
        "        \"Neptune\": 1.19\n",
        "    }\n",
        "\n",
        "    # Display planets to choose from\n",
        "    print(\"\\nSelect a planet:\")\n",
        "    for planet in gravity_ratios:\n",
        "        print(f\"- {planet}\")\n",
        "\n",
        "    # Get user choice\n",
        "    planet_choice = input(\"\\nEnter the name of the planet: \").title()\n",
        "\n",
        "    # Check if the planet exists\n",
        "    if planet_choice in gravity_ratios:\n",
        "        new_weight = earth_weight * gravity_ratios[planet_choice]\n",
        "        print(f\"\\n🌟 Your weight on {planet_choice} would be: {new_weight:.2f} kg\")\n",
        "    else:\n",
        "        print(\"\\n❌ Invalid planet name! Please try again.\")\n",
        "\n",
        "# Run the calculator\n",
        "if __name__ == \"__main__\":\n",
        "    planetary_weight_calculator()\n"
      ]
    }
  ]
}