{
  "nbformat": 4,
  "nbformat_minor": 0,
  "metadata": {
    "colab": {
      "provenance": [],
      "authorship_tag": "ABX9TyOD+ye1V/qaZtgSoUS8sBzO",
      "include_colab_link": true
    },
    "kernelspec": {
      "name": "python3",
      "display_name": "Python 3"
    },
    "language_info": {
      "name": "python"
    }
  },
  "cells": [
    {
      "cell_type": "markdown",
      "metadata": {
        "id": "view-in-github",
        "colab_type": "text"
      },
      "source": [
        "<a href=\"https://colab.research.google.com/github/tehreem-fatima-rani123/04_assignments/blob/main/List_Practice.ipynb\" target=\"_parent\"><img src=\"https://colab.research.google.com/assets/colab-badge.svg\" alt=\"Open In Colab\"/></a>"
      ]
    },
    {
      "cell_type": "code",
      "execution_count": null,
      "metadata": {
        "colab": {
          "base_uri": "https://localhost:8080/"
        },
        "id": "8opgHM060uN6",
        "outputId": "945d6a28-1a25-4b4b-9609-0fd2c7d5b9ef"
      },
      "outputs": [
        {
          "output_type": "stream",
          "name": "stdout",
          "text": [
            "\n",
            "🎮 Welcome to the List Manipulation Game! 🎮\n",
            "\n",
            "📜 Current List: ['apple', 'banana', 'cherry', 'date', 'elderberry']\n",
            "\n",
            "Select an operation:\n",
            "1️⃣ Access an element\n",
            "2️⃣ Modify an element\n",
            "3️⃣ Slice the list\n",
            "4️⃣ Quit\n",
            "Enter your choice (1-4): 1\n",
            "Enter the index to access: 1\n",
            "Element at index 1: banana\n",
            "\n",
            "📜 Current List: ['apple', 'banana', 'cherry', 'date', 'elderberry']\n",
            "\n",
            "Select an operation:\n",
            "1️⃣ Access an element\n",
            "2️⃣ Modify an element\n",
            "3️⃣ Slice the list\n",
            "4️⃣ Quit\n",
            "Enter your choice (1-4): 2\n",
            "Enter the index to modify: 2\n",
            "Enter the new value: mango\n",
            "✅ Updated element at index 2: cherry ➝ mango\n",
            "\n",
            "📜 Current List: ['apple', 'banana', 'mango', 'date', 'elderberry']\n",
            "\n",
            "Select an operation:\n",
            "1️⃣ Access an element\n",
            "2️⃣ Modify an element\n",
            "3️⃣ Slice the list\n",
            "4️⃣ Quit\n",
            "Enter your choice (1-4): 3\n",
            "Enter the start index for slicing: 3\n",
            "Enter the end index for slicing: 0\n",
            "Sliced list: []\n",
            "\n",
            "📜 Current List: ['apple', 'banana', 'mango', 'date', 'elderberry']\n",
            "\n",
            "Select an operation:\n",
            "1️⃣ Access an element\n",
            "2️⃣ Modify an element\n",
            "3️⃣ Slice the list\n",
            "4️⃣ Quit\n",
            "Enter your choice (1-4): 4\n",
            "🚀 Exiting the game. Thanks for playing!\n"
          ]
        }
      ],
      "source": [
        "def access_element(my_list, index):\n",
        "    \"\"\"Returns the element at the specified index, or an error message if out of range.\"\"\"\n",
        "    if 0 <= index < len(my_list):\n",
        "        return f\"Element at index {index}: {my_list[index]}\"\n",
        "    return \"❌ Index out of range!\"\n",
        "\n",
        "def modify_element(my_list, index, new_value):\n",
        "    \"\"\"Replaces an element at the given index with a new value.\"\"\"\n",
        "    if 0 <= index < len(my_list):\n",
        "        old_value = my_list[index]\n",
        "        my_list[index] = new_value\n",
        "        return f\"✅ Updated element at index {index}: {old_value} ➝ {new_value}\"\n",
        "    return \"❌ Index out of range!\"\n",
        "\n",
        "def slice_list(my_list, start, end):\n",
        "    \"\"\"Returns a slice of the list based on user-provided indices.\"\"\"\n",
        "    if 0 <= start < len(my_list) and 0 <= end <= len(my_list):\n",
        "        return f\"Sliced list: {my_list[start:end]}\"\n",
        "    return \"❌ Invalid slice indices!\"\n",
        "\n",
        "def list_game():\n",
        "    \"\"\"Interactive game for list manipulation.\"\"\"\n",
        "    print(\"\\n🎮 Welcome to the List Manipulation Game! 🎮\")\n",
        "\n",
        "    # Initialize the list\n",
        "    my_list = [\"apple\", \"banana\", \"cherry\", \"date\", \"elderberry\"]\n",
        "\n",
        "    while True:\n",
        "        # Show the current list\n",
        "        print(\"\\n📜 Current List:\", my_list)\n",
        "\n",
        "        # Menu options\n",
        "        print(\"\\nSelect an operation:\")\n",
        "        print(\"1️⃣ Access an element\")\n",
        "        print(\"2️⃣ Modify an element\")\n",
        "        print(\"3️⃣ Slice the list\")\n",
        "        print(\"4️⃣ Quit\")\n",
        "\n",
        "        # Get user choice\n",
        "        choice = input(\"Enter your choice (1-4): \")\n",
        "\n",
        "        if choice == \"1\":\n",
        "            index = int(input(\"Enter the index to access: \"))\n",
        "            print(access_element(my_list, index))\n",
        "\n",
        "        elif choice == \"2\":\n",
        "            index = int(input(\"Enter the index to modify: \"))\n",
        "            new_value = input(\"Enter the new value: \")\n",
        "            print(modify_element(my_list, index, new_value))\n",
        "\n",
        "        elif choice == \"3\":\n",
        "            start = int(input(\"Enter the start index for slicing: \"))\n",
        "            end = int(input(\"Enter the end index for slicing: \"))\n",
        "            print(slice_list(my_list, start, end))\n",
        "\n",
        "        elif choice == \"4\":\n",
        "            print(\"🚀 Exiting the game. Thanks for playing!\")\n",
        "            break\n",
        "\n",
        "        else:\n",
        "            print(\"❌ Invalid choice! Please enter a number between 1 and 4.\")\n",
        "\n",
        "# Run the game\n",
        "if __name__ == \"__main__\":\n",
        "    list_game()\n",
        "\n"
      ]
    }
  ]
}