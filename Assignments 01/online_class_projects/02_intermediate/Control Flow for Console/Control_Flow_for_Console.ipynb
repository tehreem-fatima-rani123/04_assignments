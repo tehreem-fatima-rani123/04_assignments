{
  "nbformat": 4,
  "nbformat_minor": 0,
  "metadata": {
    "colab": {
      "provenance": []
    },
    "kernelspec": {
      "name": "python3",
      "display_name": "Python 3"
    },
    "language_info": {
      "name": "python"
    }
  },
  "cells": [
    {
      "cell_type": "code",
      "execution_count": 1,
      "metadata": {
        "colab": {
          "base_uri": "https://localhost:8080/"
        },
        "id": "WFI1OIbZwiEt",
        "outputId": "ff7615a2-a49d-4a67-c473-20b46b453e50"
      },
      "outputs": [
        {
          "output_type": "stream",
          "name": "stdout",
          "text": [
            "\n",
            " 🎊 Welcome to the High Low Game. 🎊 \n",
            "\n",
            "How many rounds do you want to play?5\n",
            "Round Number: 1\n",
            "Your Number: 40\n",
            "Do you think your number is (H)igher or (L)ower than the computer's? h\n",
            "Sorry You guess the wrong number.Please Try Again!\n",
            "Computer's number was: 95\n",
            "\n",
            "🎉 Game Over! 🎉\n",
            "Thanks for playing!\n",
            "Your final score: 0 out of 5\n",
            "Round Number: 2\n",
            "Your Number: 45\n",
            "Do you think your number is (H)igher or (L)ower than the computer's? h\n",
            "\n",
            " 🎊Congratulation! You guess the correct number and get a point! \n",
            "🎊\n",
            "Computer's number was: 13\n",
            "\n",
            "🎉 Game Over! 🎉\n",
            "Thanks for playing!\n",
            "Your final score: 1 out of 5\n",
            "Round Number: 3\n",
            "Your Number: 6\n",
            "Do you think your number is (H)igher or (L)ower than the computer's? l\n",
            "\n",
            " 🎊Congratulation! You guess the correct number and get a point! \n",
            "🎊\n",
            "Computer's number was: 61\n",
            "\n",
            "🎉 Game Over! 🎉\n",
            "Thanks for playing!\n",
            "Your final score: 2 out of 5\n",
            "Round Number: 4\n",
            "Your Number: 38\n",
            "Do you think your number is (H)igher or (L)ower than the computer's? h\n",
            "Sorry You guess the wrong number.Please Try Again!\n",
            "Computer's number was: 50\n",
            "\n",
            "🎉 Game Over! 🎉\n",
            "Thanks for playing!\n",
            "Your final score: 2 out of 5\n",
            "Round Number: 5\n",
            "Your Number: 99\n",
            "Do you think your number is (H)igher or (L)ower than the computer's? h\n",
            "\n",
            " 🎊Congratulation! You guess the correct number and get a point! \n",
            "🎊\n",
            "Computer's number was: 35\n",
            "\n",
            "🎉 Game Over! 🎉\n",
            "Thanks for playing!\n",
            "Your final score: 3 out of 5\n"
          ]
        }
      ],
      "source": [
        "import random\n",
        "\n",
        "def high_low_game():\n",
        "  print(\"\\n 🎊 Welcome to the High Low Game. 🎊 \\n\")\n",
        "  rounds = int(input(\"How many rounds do you want to play?\"))\n",
        "\n",
        "  player_score = 0\n",
        "\n",
        "  for round_num in range(1, rounds + 1):\n",
        "    print(f\"Round Number: {round_num}\")\n",
        "\n",
        "    player_number = random.randint(1,100)\n",
        "    computer_number = random.randint(1,100)\n",
        "\n",
        "    print(f\"Your Number: {player_number}\")\n",
        "    guess = input(\"Do you think your number is (H)igher or (L)ower than the computer's? \").strip().upper()\n",
        "\n",
        "\n",
        "    if guess == \"H\" and player_number > computer_number or guess == \"L\" and player_number < computer_number:\n",
        "      print(\"\\n 🎊Congratulation! You guess the correct number and get a point! \\n🎊\")\n",
        "      player_score += 1\n",
        "    else:\n",
        "      print(\"Sorry You guess the wrong number.Please Try Again!\")\n",
        "\n",
        "    print(f\"Computer's number was: {computer_number}\")\n",
        "    print(\"\\n🎉 Game Over! 🎉\")\n",
        "    print(\"Thanks for playing!\")\n",
        "    print(f\"Your final score: {player_score} out of {rounds}\")\n",
        "\n",
        "if __name__==\"__main__\":\n",
        "  high_low_game()\n",
        "\n"
      ]
    }
  ]
}