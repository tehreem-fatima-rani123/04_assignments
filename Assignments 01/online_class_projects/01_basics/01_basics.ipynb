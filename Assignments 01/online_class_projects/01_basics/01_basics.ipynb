{
  "cells": [
    {
      "cell_type": "markdown",
      "metadata": {
        "colab_type": "text",
        "id": "view-in-github"
      },
      "source": [
        "<a href=\"https://colab.research.google.com/github/tehreem-fatima-rani123/04_assignments/blob/main/01_basics.ipynb\" target=\"_parent\"><img src=\"https://colab.research.google.com/assets/colab-badge.svg\" alt=\"Open In Colab\"/></a>"
      ]
    },
    {
      "cell_type": "markdown",
      "metadata": {
        "id": "RXLXHW49OR1r"
      },
      "source": [
        "#00_jokebot"
      ]
    },
    {
      "cell_type": "code",
      "execution_count": null,
      "metadata": {
        "colab": {
          "base_uri": "https://localhost:8080/"
        },
        "id": "goWpL8GTL0Sv",
        "outputId": "c322bc96-dda9-452b-acab-89c0cde45820"
      },
      "outputs": [
        {
          "name": "stdout",
          "output_type": "stream",
          "text": [
            "What do you want? joke\n",
            "Here is a joke for you! Sophia is heading out to the grocery store. A programmer tells her: get a liter of milk, and if they have eggs, get 12. Sophia returns with 13 liters of milk. The programmer asks why and Sophia replies: 'because they had eggs'\n"
          ]
        }
      ],
      "source": [
        "PROMPT: str = \"What do you want? \"\n",
        "JOKE: str = \"Here is a joke for you! Sophia is heading out to the grocery store. A programmer tells her: get a liter of milk, and if they have eggs, get 12. Sophia returns with 13 liters of milk. The programmer asks why and Sophia replies: 'because they had eggs'\"\n",
        "SORRY: str = \"Sorry I only tell jokes.\"\n",
        "\n",
        "def main():\n",
        "    user_input = input(PROMPT).strip().lower()  \n",
        "\n",
        "    if user_input == \"joke\": \n",
        "        print(JOKE)\n",
        "    else:\n",
        "        print(SORRY)\n",
        "\n",
        "if __name__ == \"__main__\":\n",
        "    main()\n"
      ]
    },
    {
      "cell_type": "markdown",
      "metadata": {
        "id": "q7LgFq0LOVY-"
      },
      "source": [
        "#01_double_it"
      ]
    },
    {
      "cell_type": "code",
      "execution_count": null,
      "metadata": {
        "colab": {
          "base_uri": "https://localhost:8080/"
        },
        "id": "kuPnscRnONBw",
        "outputId": "8cd24abd-ced6-4f8f-c3c6-8e5664a512fc"
      },
      "outputs": [
        {
          "name": "stdout",
          "output_type": "stream",
          "text": [
            "Enter a number: 7\n",
            "14\n",
            "28\n",
            "56\n",
            "112\n"
          ]
        }
      ],
      "source": [
        "def double_it (num):\n",
        "    curr_val = num\n",
        "    while curr_val < 100:\n",
        "        curr_val *= 2\n",
        "        print(curr_val)\n",
        "    return curr_val\n",
        "def main():\n",
        "    user_input = int(input(\"Enter a number: \"))\n",
        "    double_it(user_input)\n",
        "\n",
        "\n",
        "if __name__ == '__main__':\n",
        "    main()"
      ]
    },
    {
      "cell_type": "markdown",
      "metadata": {
        "id": "vIMFjhukOm-0"
      },
      "source": [
        "#02_liftoff"
      ]
    },
    {
      "cell_type": "code",
      "execution_count": null,
      "metadata": {
        "colab": {
          "base_uri": "https://localhost:8080/"
        },
        "id": "J8r1mOgUOt0a",
        "outputId": "0293eae8-87d9-4b17-d66f-5c36a6b32153"
      },
      "outputs": [
        {
          "name": "stdout",
          "output_type": "stream",
          "text": [
            "10... 9... 8... 7... 6... 5... 4... 3... 2... 1... Liftoff!\n"
          ]
        }
      ],
      "source": [
        "\n",
        "def main():\n",
        "    for i in range(10, 0, -1):  \n",
        "        print(i, end=\"... \")  \n",
        "    print(\"Liftoff!\")  \n",
        "\n",
        "if __name__ == '__main__':\n",
        "    main()\n"
      ]
    },
    {
      "cell_type": "markdown",
      "metadata": {
        "id": "wln0rBj-OzKY"
      },
      "source": [
        "#03_guessnumber"
      ]
    },
    {
      "cell_type": "code",
      "execution_count": null,
      "metadata": {
        "colab": {
          "base_uri": "https://localhost:8080/"
        },
        "id": "jJGzGRSnO3ts",
        "outputId": "ed1743bf-b900-459d-b9b2-ae6729f0a4f9"
      },
      "outputs": [
        {
          "name": "stdout",
          "output_type": "stream",
          "text": [
            "I am thinking of a number between 1 and 99...\n",
            "Enter a guess: 5\n",
            "Your guess is too low\n",
            "\n",
            "Enter a new guess: 97\n",
            "Your guess is too high\n",
            "\n",
            "Enter a new guess: 65\n",
            "Your guess is too low\n",
            "\n",
            "Enter a new guess: 87\n",
            "Your guess is too high\n",
            "\n",
            "Enter a new guess: 77\n",
            "Your guess is too low\n",
            "\n",
            "Enter a new guess: 80\n",
            "Your guess is too low\n",
            "\n",
            "Enter a new guess: 85\n",
            "Congrats! The number was: 85\n"
          ]
        }
      ],
      "source": [
        "import random\n",
        "\n",
        "def main():\n",
        "    secret_number: int = random.randint(1, 99)\n",
        "\n",
        "    print(\"I am thinking of a number between 1 and 99...\")\n",
        "\n",
        "    guess = int(input(\"Enter a guess: \"))\n",
        "    while guess != secret_number:\n",
        "        if guess < secret_number:  \n",
        "            print(\"Your guess is too low\")\n",
        "        else:\n",
        "            print(\"Your guess is too high\")\n",
        "\n",
        "        print() \n",
        "        guess: int = int(input(\"Enter a new guess: \"))  \n",
        "    print(\"Congrats! The number was: \" + str(secret_number))\n",
        "\n",
        "if __name__ == '__main__':\n",
        "    main()"
      ]
    },
    {
      "cell_type": "markdown",
      "metadata": {
        "id": "SgfpcuvnPEG_"
      },
      "source": [
        "#04_random_numbers"
      ]
    },
    {
      "cell_type": "code",
      "execution_count": null,
      "metadata": {
        "colab": {
          "base_uri": "https://localhost:8080/"
        },
        "id": "9opvWoE4PILW",
        "outputId": "e4bc18d5-1310-4280-8c56-ff6f648f29a0"
      },
      "outputs": [
        {
          "name": "stdout",
          "output_type": "stream",
          "text": [
            "94\n",
            "29\n",
            "64\n",
            "13\n",
            "99\n",
            "17\n",
            "40\n",
            "31\n",
            "55\n",
            "45\n"
          ]
        }
      ],
      "source": [
        "\n",
        "import random\n",
        "\n",
        "N_NUMBERS : int = 10\n",
        "MIN_VALUE : int = 1\n",
        "MAX_VALUE : int = 100\n",
        "\n",
        "def random_numbers(n: int, min_value: int, max_value: int) -> list:\n",
        "\n",
        "    return [print(random.randint(min_value, max_value)) for i in range(n)]\n",
        "def main():\n",
        "    random_numbers(N_NUMBERS, MIN_VALUE, MAX_VALUE)\n",
        "    pass\n",
        "\n",
        "if __name__ == '__main__':\n",
        "    main()"
      ]
    }
  ],
  "metadata": {
    "colab": {
      "authorship_tag": "ABX9TyPT1nicn0ERyoGTALnRrBlc",
      "include_colab_link": true,
      "provenance": []
    },
    "kernelspec": {
      "display_name": "Python 3",
      "name": "python3"
    },
    "language_info": {
      "name": "python"
    }
  },
  "nbformat": 4,
  "nbformat_minor": 0
}
